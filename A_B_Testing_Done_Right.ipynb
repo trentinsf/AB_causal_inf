{
  "nbformat": 4,
  "nbformat_minor": 0,
  "metadata": {
    "colab": {
      "name": "A/B Testing Done Right.ipynb",
      "provenance": [],
      "collapsed_sections": [],
      "authorship_tag": "ABX9TyMVqzN5bgnfgk5fup74gwlY",
      "include_colab_link": true
    },
    "kernelspec": {
      "name": "python3",
      "display_name": "Python 3"
    }
  },
  "cells": [
    {
      "cell_type": "markdown",
      "metadata": {
        "id": "view-in-github",
        "colab_type": "text"
      },
      "source": [
        "<a href=\"https://colab.research.google.com/github/trentinsf/AB_causal_inf/blob/master/A_B_Testing_Done_Right.ipynb\" target=\"_parent\"><img src=\"https://colab.research.google.com/assets/colab-badge.svg\" alt=\"Open In Colab\"/></a>"
      ]
    },
    {
      "cell_type": "markdown",
      "metadata": {
        "id": "Ey5u3Bu7sHSG",
        "colab_type": "text"
      },
      "source": [
        "For description of model, please see medium article here: \n",
        "\n",
        "\n",
        "\n",
        "\n",
        "\n",
        "\n"
      ]
    },
    {
      "cell_type": "code",
      "metadata": {
        "id": "CDHmG8YfPPBP",
        "colab_type": "code",
        "colab": {}
      },
      "source": [
        "import scipy.stats\n",
        "import matplotlib.pyplot as plt\n",
        "\n",
        "num_observations = 100 #we observe 100 people on our website\n",
        "num_simulations = 100000 #we'll simulate our exact situation 100,000 times\n",
        "\n",
        "p1 = .05 #probability of purchasing if given treatment 1 (5%)\n",
        "p2 = .05 #probability of purchasing if given treatment 2 (5%)\n",
        "#the probabilities are equal\n",
        "\n",
        "\"\"\"\n",
        "Below, we simulate whether or not a user to our website makes a purchase given each treatment.\n",
        "We simulate this 1000 times, assuming that in both cases there is a 5% chance that a user\n",
        "makes a purchase. We use a binomial distribution, which simulates independent events\n",
        "with a fixed probability of success and a fixed number of events. In this case, 100 events\n",
        "each with a 5% likelihood of success. We run this simulation 100,000 times.\n",
        "\"\"\"\n",
        "\n",
        "treatment_1 = scipy.stats.binom.rvs(n=num_observations, p=p1, size=num_simulations)\n",
        "treatment_2 = scipy.stats.binom.rvs(n=num_observations, p=p2, size=num_simulations)\n",
        "\n",
        "\"\"\"\n",
        "treatment_1 is a list the simulated number of purchases given a \n",
        "purchase probability of .05 and a sample size 100 customers\n",
        "\"\"\""
      ],
      "execution_count": 0,
      "outputs": []
    },
    {
      "cell_type": "code",
      "metadata": {
        "id": "l_EYq7bYTJpF",
        "colab_type": "code",
        "outputId": "b0206227-ba49-447e-efb5-4eba0c6bfd08",
        "colab": {
          "base_uri": "https://localhost:8080/",
          "height": 53
        }
      },
      "source": [
        "treatment_difference = treatment_1 - treatment_2\n",
        "\n",
        "\"\"\"\n",
        "Treatment_difference is the difference between the number of purchases in each treatment\n",
        "group. Our real treatment difference was 4. To see how likely it is that we would see\n",
        "these our observed results due to random chance, let's compare our result with the \n",
        "simulated results.\n",
        "\"\"\"\n",
        "\n",
        "count = 0\n",
        "\n",
        "for difference in treatment_difference:\n",
        "  if difference >= 4:\n",
        "    count += 1 \n",
        "\n",
        "\"\"\"\n",
        "We run through each simulated scenario and count the number of times that the difference\n",
        "between treatment group 1 and 2 is greater than or equal to our actual result.\n",
        "\"\"\"\n",
        "\n",
        "#we must divide by the number of simulations to get a percent:\n",
        "percent_randomly_observed = count/num_simulations\n",
        "\n",
        "print(\"Percent of time results as extreme or more extreme than ours were randomly generated:\", percent_randomly_observed*100, \"%\")"
      ],
      "execution_count": 0,
      "outputs": [
        {
          "output_type": "stream",
          "text": [
            "Percent of time results as extreme or more extreme than ours were randomly generated: 12.393 %\n"
          ],
          "name": "stdout"
        }
      ]
    }
  ]
}